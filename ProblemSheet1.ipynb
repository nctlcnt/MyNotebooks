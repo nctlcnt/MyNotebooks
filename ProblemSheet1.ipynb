{
  "nbformat": 4,
  "nbformat_minor": 0,
  "metadata": {
    "colab": {
      "provenance": [],
      "authorship_tag": "ABX9TyPuNtswcuIHe7SoQdj5LdwU",
      "include_colab_link": true
    },
    "kernelspec": {
      "name": "ir",
      "display_name": "R"
    },
    "language_info": {
      "name": "R"
    }
  },
  "cells": [
    {
      "cell_type": "markdown",
      "metadata": {
        "id": "view-in-github",
        "colab_type": "text"
      },
      "source": [
        "<a href=\"https://colab.research.google.com/github/nctlcnt/MyNotebooks/blob/main/ProblemSheet1.ipynb\" target=\"_parent\"><img src=\"https://colab.research.google.com/assets/colab-badge.svg\" alt=\"Open In Colab\"/></a>"
      ]
    },
    {
      "cell_type": "code",
      "execution_count": 5,
      "metadata": {
        "colab": {
          "base_uri": "https://localhost:8080/",
          "height": 283
        },
        "id": "Hc8mzo6-0h8O",
        "outputId": "9730fe88-2065-4676-e7cc-132630ff97b0"
      },
      "outputs": [
        {
          "output_type": "display_data",
          "data": {
            "text/html": [
              "<table class=\"dataframe\">\n",
              "<caption>A data.frame: 6 × 2</caption>\n",
              "<thead>\n",
              "\t<tr><th scope=col>town</th><th scope=col>country</th></tr>\n",
              "\t<tr><th scope=col>&lt;dbl&gt;</th><th scope=col>&lt;dbl&gt;</th></tr>\n",
              "</thead>\n",
              "<tbody>\n",
              "\t<tr><td>0</td><td>2</td></tr>\n",
              "\t<tr><td>1</td><td>0</td></tr>\n",
              "\t<tr><td>1</td><td>3</td></tr>\n",
              "\t<tr><td>0</td><td>0</td></tr>\n",
              "\t<tr><td>2</td><td>0</td></tr>\n",
              "\t<tr><td>3</td><td>1</td></tr>\n",
              "</tbody>\n",
              "</table>\n"
            ],
            "text/markdown": "\nA data.frame: 6 × 2\n\n| town &lt;dbl&gt; | country &lt;dbl&gt; |\n|---|---|\n| 0 | 2 |\n| 1 | 0 |\n| 1 | 3 |\n| 0 | 0 |\n| 2 | 0 |\n| 3 | 1 |\n\n",
            "text/latex": "A data.frame: 6 × 2\n\\begin{tabular}{ll}\n town & country\\\\\n <dbl> & <dbl>\\\\\n\\hline\n\t 0 & 2\\\\\n\t 1 & 0\\\\\n\t 1 & 3\\\\\n\t 0 & 0\\\\\n\t 2 & 0\\\\\n\t 3 & 1\\\\\n\\end{tabular}\n",
            "text/plain": [
              "  town country\n",
              "1 0    2      \n",
              "2 1    0      \n",
              "3 1    3      \n",
              "4 0    0      \n",
              "5 2    0      \n",
              "6 3    1      "
            ]
          },
          "metadata": {}
        }
      ],
      "source": [
        "data<-data.frame(town=c(0,1,1,0,2,3),country=c(2,0,3,0,0,1))\n",
        "data"
      ]
    }
  ]
}