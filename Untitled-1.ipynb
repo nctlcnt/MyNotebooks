{
 "cells": [
  {
   "cell_type": "code",
   "execution_count": null,
   "id": "25d163a1",
   "metadata": {
    "vscode": {
     "languageId": "r"
    }
   },
   "outputs": [],
   "source": []
  }
 ],
 "metadata": {
  "kernelspec": {
   "display_name": "R",
   "language": "R",
   "name": "ir"
  },
  "language_info": {
   "name": "R"
  }
 },
 "nbformat": 4,
 "nbformat_minor": 5
}
